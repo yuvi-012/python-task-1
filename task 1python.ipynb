{
 "cells": [
  {
   "cell_type": "code",
   "execution_count": null,
   "metadata": {},
   "outputs": [],
   "source": []
  },
  {
   "cell_type": "code",
   "execution_count": 4,
   "metadata": {},
   "outputs": [
    {
     "name": "stdout",
     "output_type": "stream",
     "text": [
      "total number of vowels 12\n",
      "count of each individual vowel\n",
      "a 1\n",
      "e 5\n",
      "i 4\n",
      "o 1\n",
      "u 1\n"
     ]
    }
   ],
   "source": [
    "s=\"Guvi Geeks Network Private Limited\"\n",
    "total_vowels=s.count('a')+s.count('e')+s.count('i')+s.count('o')+s.count('u')\n",
    "count_a=s.count('a')\n",
    "count_e=s.count('e')\n",
    "count_i=s.count('i')\n",
    "count_o=s.count('o')\n",
    "count_u=s.count('u')\n",
    "\n",
    "print(\"total number of vowels\",total_vowels)\n",
    "print(\"count of each individual vowel\")\n",
    "\n",
    "print(\"a\",count_a)\n",
    "print(\"e\",count_e)\n",
    "print(\"i\",count_i)\n",
    "print(\"o\",count_o)\n",
    "print(\"u\",count_u)"
   ]
  },
  {
   "cell_type": "code",
   "execution_count": 1,
   "metadata": {},
   "outputs": [
    {
     "name": "stdout",
     "output_type": "stream",
     "text": [
      "                   1 \n",
      "                  1 2 1 \n",
      "                 1 2 3 2 1 \n",
      "                1 2 3 4 3 2 1 \n",
      "               1 2 3 4 5 4 3 2 1 \n",
      "              1 2 3 4 5 6 5 4 3 2 1 \n",
      "             1 2 3 4 5 6 7 6 5 4 3 2 1 \n",
      "            1 2 3 4 5 6 7 8 7 6 5 4 3 2 1 \n",
      "           1 2 3 4 5 6 7 8 9 8 7 6 5 4 3 2 1 \n",
      "          1 2 3 4 5 6 7 8 9 10 9 8 7 6 5 4 3 2 1 \n",
      "         1 2 3 4 5 6 7 8 9 10 11 10 9 8 7 6 5 4 3 2 1 \n",
      "        1 2 3 4 5 6 7 8 9 10 11 12 11 10 9 8 7 6 5 4 3 2 1 \n",
      "       1 2 3 4 5 6 7 8 9 10 11 12 13 12 11 10 9 8 7 6 5 4 3 2 1 \n",
      "      1 2 3 4 5 6 7 8 9 10 11 12 13 14 13 12 11 10 9 8 7 6 5 4 3 2 1 \n",
      "     1 2 3 4 5 6 7 8 9 10 11 12 13 14 15 14 13 12 11 10 9 8 7 6 5 4 3 2 1 \n",
      "    1 2 3 4 5 6 7 8 9 10 11 12 13 14 15 16 15 14 13 12 11 10 9 8 7 6 5 4 3 2 1 \n",
      "   1 2 3 4 5 6 7 8 9 10 11 12 13 14 15 16 17 16 15 14 13 12 11 10 9 8 7 6 5 4 3 2 1 \n",
      "  1 2 3 4 5 6 7 8 9 10 11 12 13 14 15 16 17 18 17 16 15 14 13 12 11 10 9 8 7 6 5 4 3 2 1 \n",
      " 1 2 3 4 5 6 7 8 9 10 11 12 13 14 15 16 17 18 19 18 17 16 15 14 13 12 11 10 9 8 7 6 5 4 3 2 1 \n",
      "1 2 3 4 5 6 7 8 9 10 11 12 13 14 15 16 17 18 19 20 19 18 17 16 15 14 13 12 11 10 9 8 7 6 5 4 3 2 1 \n"
     ]
    }
   ],
   "source": [
    "rows = 20\n",
    "for i in range(1, rows + 1):\n",
    "    print(\" \" * (rows - i), end=\"\")\n",
    "    for j in range(1, i + 1):\n",
    "        print(j, end=\" \")\n",
    "    for k in range(i - 1, 0, -1):\n",
    "        print(k, end=\" \")\n",
    "    print()"
   ]
  },
  {
   "cell_type": "code",
   "execution_count": 2,
   "metadata": {},
   "outputs": [
    {
     "name": "stdout",
     "output_type": "stream",
     "text": [
      "Result: hll wrld\n"
     ]
    }
   ],
   "source": [
    "def remove_vowels(input_str):\n",
    "    vowels = \"aeiouAEIOU\"\n",
    "    return ''.join(i for i in input_str if i not in vowels)\n",
    "\n",
    "input_str = \"hello world\"\n",
    "result = remove_vowels(input_str)\n",
    "print(\"Result:\", result)"
   ]
  },
  {
   "cell_type": "code",
   "execution_count": 3,
   "metadata": {},
   "outputs": [
    {
     "name": "stdout",
     "output_type": "stream",
     "text": [
      "Number of unique characters: 10\n"
     ]
    }
   ],
   "source": [
    "def count_unique_characters(input_str):\n",
    "    unique_chars = set(input_str)\n",
    "    return len(unique_chars)\n",
    "\n",
    "input_str = \"I love india\"\n",
    "result = count_unique_characters(input_str)\n",
    "print(\"Number of unique characters:\", result)"
   ]
  },
  {
   "cell_type": "code",
   "execution_count": 8,
   "metadata": {},
   "outputs": [
    {
     "name": "stdout",
     "output_type": "stream",
     "text": [
      "Is it a palindrome: False\n"
     ]
    }
   ],
   "source": [
    "def is_palindrome(input_str):\n",
    "\n",
    "    input_str = input_str.replace(\" \", \"\").lower()\n",
    "    \n",
    "    return input_str == input_str[::-1]\n",
    "\n",
    "input_str = \"this is my bike\"\n",
    "result = is_palindrome(input_str)\n",
    "print(\"Is it a palindrome:\", result)"
   ]
  },
  {
   "cell_type": "code",
   "execution_count": 5,
   "metadata": {},
   "outputs": [
    {
     "name": "stdout",
     "output_type": "stream",
     "text": [
      "Longest common substring: l\n"
     ]
    }
   ],
   "source": [
    "def longest_common_substring(str1, str2):\n",
    "    common_substrings = []\n",
    "    for i in range(len(str1)):\n",
    "        for j in range(len(str2)):\n",
    "            k = 0\n",
    "            while i + k < len(str1) and j + k < len(str2) and str1[i + k] == str2[j + k]:\n",
    "                k += 1\n",
    "            common_substrings.append(str1[i:i + k])\n",
    "\n",
    "    return max(common_substrings, key=len)\n",
    "\n",
    "str1 = \"is hello\"\n",
    "str2 = \"world\"\n",
    "result = longest_common_substring(str1, str2)\n",
    "print(\"Longest common substring:\", result)"
   ]
  },
  {
   "cell_type": "code",
   "execution_count": 6,
   "metadata": {},
   "outputs": [
    {
     "name": "stdout",
     "output_type": "stream",
     "text": [
      "Most frequent character: h\n"
     ]
    }
   ],
   "source": [
    "def most_frequent_character(input_str):\n",
    "    input_str = input_str.replace(' ', '')  # Remove spaces\n",
    "    max_count = 0\n",
    "    most_common_char = ''\n",
    "    \n",
    "    for char in input_str:\n",
    "        count = input_str.count(char)\n",
    "        if count > max_count:\n",
    "            max_count = count\n",
    "            most_common_char = char\n",
    "            \n",
    "    return most_common_char\n",
    "\n",
    "input_str = \"this is my phone\"\n",
    "result = most_frequent_character(input_str)\n",
    "print(\"Most frequent character:\", result)"
   ]
  },
  {
   "cell_type": "code",
   "execution_count": 9,
   "metadata": {},
   "outputs": [
    {
     "name": "stdout",
     "output_type": "stream",
     "text": [
      "Is it an anagram: True\n"
     ]
    }
   ],
   "source": [
    "from collections import Counter\n",
    "\n",
    "def is_anagram(str1, str2):\n",
    "    str1 = str1.replace(' ', '').lower()\n",
    "    str2 = str2.replace(' ', '').lower()\n",
    "    \n",
    "    return Counter(str1) == Counter(str2)\n",
    "\n",
    "input_str = \"hello world\"\n",
    "comparison_str = \"world hello\"\n",
    "result = is_anagram(input_str, comparison_str)\n",
    "print(\"Is it an anagram:\", result)"
   ]
  },
  {
   "cell_type": "code",
   "execution_count": 10,
   "metadata": {},
   "outputs": [
    {
     "name": "stdout",
     "output_type": "stream",
     "text": [
      "Number of words: 4\n"
     ]
    }
   ],
   "source": [
    "def count_words(input_str):\n",
    "    words = input_str.split()\n",
    "    \n",
    "    return len(words)\n",
    "\n",
    "input_str = \"this is my table\"\n",
    "result = count_words(input_str)\n",
    "print(\"Number of words:\", result)"
   ]
  },
  {
   "cell_type": "code",
   "execution_count": null,
   "metadata": {},
   "outputs": [],
   "source": []
  },
  {
   "cell_type": "code",
   "execution_count": null,
   "metadata": {},
   "outputs": [],
   "source": []
  },
  {
   "cell_type": "code",
   "execution_count": null,
   "metadata": {},
   "outputs": [],
   "source": []
  },
  {
   "cell_type": "code",
   "execution_count": null,
   "metadata": {},
   "outputs": [],
   "source": []
  },
  {
   "cell_type": "code",
   "execution_count": null,
   "metadata": {},
   "outputs": [],
   "source": []
  },
  {
   "cell_type": "code",
   "execution_count": null,
   "metadata": {},
   "outputs": [],
   "source": []
  },
  {
   "cell_type": "code",
   "execution_count": null,
   "metadata": {},
   "outputs": [],
   "source": []
  },
  {
   "cell_type": "code",
   "execution_count": null,
   "metadata": {},
   "outputs": [],
   "source": []
  },
  {
   "cell_type": "code",
   "execution_count": null,
   "metadata": {},
   "outputs": [],
   "source": []
  },
  {
   "cell_type": "code",
   "execution_count": null,
   "metadata": {},
   "outputs": [],
   "source": []
  },
  {
   "cell_type": "code",
   "execution_count": null,
   "metadata": {},
   "outputs": [],
   "source": []
  },
  {
   "cell_type": "code",
   "execution_count": null,
   "metadata": {},
   "outputs": [],
   "source": []
  }
 ],
 "metadata": {
  "kernelspec": {
   "display_name": "Python 3",
   "language": "python",
   "name": "python3"
  },
  "language_info": {
   "codemirror_mode": {
    "name": "ipython",
    "version": 3
   },
   "file_extension": ".py",
   "mimetype": "text/x-python",
   "name": "python",
   "nbconvert_exporter": "python",
   "pygments_lexer": "ipython3",
   "version": "3.12.2"
  }
 },
 "nbformat": 4,
 "nbformat_minor": 2
}
